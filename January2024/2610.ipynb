{
 "cells": [
  {
   "cell_type": "code",
   "execution_count": 14,
   "metadata": {},
   "outputs": [
    {
     "name": "stdout",
     "output_type": "stream",
     "text": [
      "{1: 1}\n",
      "{1: 1, 3: 1}\n",
      "{1: 1, 3: 1, 4: 1}\n",
      "{1: 2, 3: 1, 4: 1}\n",
      "{1: 2, 3: 1, 4: 1, 2: 1}\n",
      "{1: 2, 3: 2, 4: 1, 2: 1}\n",
      "{1: 3, 3: 2, 4: 1, 2: 1}\n",
      "None\n"
     ]
    }
   ],
   "source": [
    "# Convert an Array into a 2D array with conditions\n",
    "\n",
    "def findMatrix(nums):\n",
    "    l = {}\n",
    "    for i in nums:\n",
    "        l[i] = l.get(i,0) + 1\n",
    "        print(l)\n",
    "\n",
    "        \n",
    "\n",
    "#num = [list(int(input()))]\n",
    "nums = [1,3,4,1,2,3,1]\n",
    "res =findMatrix(nums)\n",
    "print(res)"
   ]
  }
 ],
 "metadata": {
  "kernelspec": {
   "display_name": "Python 3",
   "language": "python",
   "name": "python3"
  },
  "language_info": {
   "codemirror_mode": {
    "name": "ipython",
    "version": 3
   },
   "file_extension": ".py",
   "mimetype": "text/x-python",
   "name": "python",
   "nbconvert_exporter": "python",
   "pygments_lexer": "ipython3",
   "version": "3.11.6"
  }
 },
 "nbformat": 4,
 "nbformat_minor": 2
}
